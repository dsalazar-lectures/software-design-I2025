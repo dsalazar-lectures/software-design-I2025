{
 "cells": [
  {
   "cell_type": "markdown",
   "id": "7e4e54f8",
   "metadata": {},
   "source": [
    "# Patrón Bulkhead: Aislamiento de Fallos en Sistemas Distribuidos\n",
    "\n",
    "## ¿Qué es el patrón Bulkhead?\n",
    "\n",
    "El patrón **Bulkhead** (literalmente \"mamparo\" en inglés) es un patrón de diseño de tipo estructural/arquitectónico que busca la resiliencia al **aislar elementos de una aplicación en grupos independientes** para que un fallo en un grupo no afecte a los demás. \n",
    "\n",
    "Inspirado en los mamparos estancos de los barcos que evitan que una vía de agua hunda toda la embarcación."
   ]
  },
  {
   "cell_type": "markdown",
   "id": "3a5dbd55",
   "metadata": {},
   "source": [
    "## Ventajas vs. Desventajas\n",
    "\n",
    "| Ventajas | Desventajas |\n",
    "|----------|-------------|\n",
    "| Aislamiento de fallos | Mayor complejidad |\n",
    "| Mejor disponibilidad | Overhead de recursos |\n",
    "| Límites claros de recursos | Dificultad para dimensionar grupos |\n",
    "| Degradación controlada | Posible subutilización |"
   ]
  },
  {
   "cell_type": "markdown",
   "id": "fc25580c",
   "metadata": {},
   "source": [
    "## Ejemplo: Sistema de Pedidos con Bulkhead\n",
    "\n",
    "Vamos a implementar un sistema de procesamiento de pedidos donde:\n",
    "- Procesamiento de pagos y envíos son servicios críticos\n",
    "- Queremos evitar que fallos en envíos afecten pagos"
   ]
  },
  {
   "cell_type": "code",
   "execution_count": 1,
   "id": "f13f5eab",
   "metadata": {},
   "outputs": [],
   "source": [
    "import threading\n",
    "import random\n",
    "import time\n",
    "from concurrent.futures import ThreadPoolExecutor"
   ]
  },
  {
   "cell_type": "markdown",
   "id": "c6cc7f78",
   "metadata": {},
   "source": [
    "## Implementación del Bulkhead\n",
    "\n",
    "Usaremos **ThreadPoolExecutor separados** para cada servicio, limitando los hilos disponibles por grupo."
   ]
  },
  {
   "cell_type": "code",
   "execution_count": 2,
   "id": "e9832fc9",
   "metadata": {},
   "outputs": [],
   "source": [
    "class OrderSystem:\n",
    "    def __init__(self):\n",
    "        # Bulkhead para pagos - máximo 3 hilos\n",
    "        self.payment_executor = ThreadPoolExecutor(max_workers=3, thread_name_prefix='payment_')\n",
    "        \n",
    "        # Bulkhead para envíos - máximo 2 hilos\n",
    "        self.shipping_executor = ThreadPoolExecutor(max_workers=2, thread_name_prefix='shipping_')\n",
    "        \n",
    "        # Bulkhead para notificaciones - máximo 1 hilo\n",
    "        self.notification_executor = ThreadPoolExecutor(max_workers=1, thread_name_prefix='notif_')\n",
    "\n",
    "    def process_payment(self, order_id):\n",
    "        try:\n",
    "            print(f\"[Pago] Procesando orden {order_id} en hilo {threading.current_thread().name}\")\n",
    "            time.sleep(random.uniform(0.5, 1.5))  # Simula procesamiento\n",
    "            \n",
    "            # Simular fallo aleatorio (10% de probabilidad)\n",
    "            if random.random() < 0.1:\n",
    "                raise Exception(\"Error en procesamiento de pago\")\n",
    "                \n",
    "            print(f\"[Pago] Orden {order_id} completada\")\n",
    "            return True\n",
    "        except Exception as e:\n",
    "            print(f\"[Pago] Error en orden {order_id}: {str(e)}\")\n",
    "            return False\n",
    "\n",
    "    def process_shipping(self, order_id):\n",
    "        try:\n",
    "            print(f\"[Envío] Procesando orden {order_id} en hilo {threading.current_thread().name}\")\n",
    "            time.sleep(random.uniform(1, 3))  # Envío tarda más\n",
    "            \n",
    "            # Simular fallo aleatorio (20% de probabilidad)\n",
    "            if random.random() < 0.2:\n",
    "                raise Exception(\"Error en sistema de envíos\")\n",
    "                \n",
    "            print(f\"[Envío] Orden {order_id} despachada\")\n",
    "            return True\n",
    "        except Exception as e:\n",
    "            print(f\"[Envío] Error en orden {order_id}: {str(e)}\")\n",
    "            return False\n",
    "\n",
    "    def send_notification(self, order_id):\n",
    "        try:\n",
    "            print(f\"[Notif] Enviando confirmación para orden {order_id}\")\n",
    "            time.sleep(0.5)\n",
    "            print(f\"[Notif] Orden {order_id}: Notificación enviada\")\n",
    "            return True\n",
    "        except Exception as e:\n",
    "            print(f\"[Notif] Error en orden {order_id}: {str(e)}\")\n",
    "            return False\n",
    "\n",
    "    def process_order(self, order_id):\n",
    "        # Procesar pago (en su propio bulkhead)\n",
    "        payment_future = self.payment_executor.submit(self.process_payment, order_id)\n",
    "        \n",
    "        # Procesar envío (en bulkhead separado)\n",
    "        shipping_future = self.shipping_executor.submit(self.process_shipping, order_id)\n",
    "        \n",
    "        # Esperar resultados\n",
    "        payment_ok = payment_future.result()\n",
    "        shipping_ok = shipping_future.result()\n",
    "        \n",
    "        # Notificación (en bulkhead de baja prioridad)\n",
    "        if payment_ok and shipping_ok:\n",
    "            self.notification_executor.submit(self.send_notification, order_id)\n",
    "        \n",
    "        return payment_ok and shipping_ok"
   ]
  },
  {
   "cell_type": "markdown",
   "id": "d66315f8",
   "metadata": {},
   "source": [
    "## Simulación del Sistema\n",
    "Vamos a probar el sistema con 10 pedidos concurrentes. Observa cómo:\n",
    "- Los fallos en envíos no afectan pagos\n",
    "- La saturación de envíos no bloquea notificaciones"
   ]
  },
  {
   "cell_type": "code",
   "execution_count": 5,
   "id": "54c141e1",
   "metadata": {},
   "outputs": [],
   "source": [
    "def simulate_orders():\n",
    "    # 1. Inicialización del sistema con Bulkheads\n",
    "    system = OrderSystem()  # Crea instancia con los ThreadPools aislados\n",
    "    order_ids = range(1, 11)  # Genera 10 IDs de pedido (1 al 10)\n",
    "    \n",
    "    # 2. Ejecución concurrente de pedidos\n",
    "    with ThreadPoolExecutor(max_workers=10) as executor:  # Pool para simular usuarios concurrentes\n",
    "        # 3. Envío asíncrono de todas las órdenes\n",
    "        futures = [executor.submit(system.process_order, oid) for oid in order_ids]\n",
    "        \n",
    "        # 4. Recolección de resultados\n",
    "        for future in futures:\n",
    "            try:\n",
    "                future.result(timeout=5)  # Espera máximo 5 segundos por cada orden\n",
    "            except Exception as e:\n",
    "                print(f\"Error procesando orden: {str(e)}\")"
   ]
  },
  {
   "cell_type": "code",
   "execution_count": 6,
   "id": "5a00e51d",
   "metadata": {},
   "outputs": [
    {
     "name": "stdout",
     "output_type": "stream",
     "text": [
      "=== Inicio simulación Bulkhead ===\n",
      "[Pago] Procesando orden 1 en hilo payment__0\n",
      "[Envío] Procesando orden 1 en hilo shipping__0\n",
      "[Pago] Procesando orden 2 en hilo payment__1\n",
      "[Envío] Procesando orden 2 en hilo shipping__1\n",
      "[Pago] Procesando orden 3 en hilo payment__2\n",
      "[Pago] Orden 3 completada\n",
      "[Pago] Procesando orden 4 en hilo payment__2\n",
      "[Envío] Error en orden 1: Error en sistema de envíos\n",
      "[Envío] Procesando orden 3 en hilo shipping__0\n",
      "[Pago] Orden 1 completada\n",
      "[Pago] Procesando orden 5 en hilo payment__0\n",
      "[Pago] Orden 2 completada\n",
      "[Pago] Procesando orden 6 en hilo payment__1\n",
      "[Pago] Orden 4 completada\n",
      "[Pago] Procesando orden 7 en hilo payment__2\n",
      "[Pago] Orden 5 completada\n",
      "[Pago] Procesando orden 8 en hilo payment__0\n",
      "[Envío] Error en orden 2: Error en sistema de envíos\n",
      "[Envío] Procesando orden 4 en hilo shipping__1\n",
      "[Pago] Orden 6 completada\n",
      "[Pago] Procesando orden 9 en hilo payment__1\n",
      "[Pago] Orden 9 completada\n",
      "[Pago] Procesando orden 10 en hilo payment__1\n",
      "[Pago] Orden 7 completada\n",
      "[Pago] Orden 8 completada\n",
      "[Envío] Orden 3 despachada\n",
      "[Envío] Procesando orden 5 en hilo shipping__0\n",
      "[Notif] Enviando confirmación para orden 3\n",
      "[Envío] Orden 4 despachada\n",
      "[Envío] Procesando orden 6 en hilo shipping__1\n",
      "[Notif] Orden 3: Notificación enviada\n",
      "[Notif] Enviando confirmación para orden 4\n",
      "[Pago] Error en orden 10: Error en procesamiento de pago\n",
      "[Notif] Orden 4: Notificación enviada\n",
      "[Envío] Orden 5 despachada\n",
      "[Envío] Procesando orden 7 en hilo shipping__0\n",
      "[Notif] Enviando confirmación para orden 5\n",
      "[Envío] Error en orden 6: Error en sistema de envíos\n",
      "[Envío] Procesando orden 8 en hilo shipping__1\n",
      "[Notif] Orden 5: Notificación enviada\n",
      "[Envío] Orden 8 despachada\n",
      "[Envío] Procesando orden 9 en hilo shipping__1\n",
      "[Notif] Enviando confirmación para orden 8\n",
      "[Notif] Orden 8: Notificación enviada\n",
      "[Envío] Orden 7 despachada\n",
      "[Envío] Procesando orden 10 en hilo shipping__0\n",
      "[Notif] Enviando confirmación para orden 7\n",
      "[Envío] Orden 9 despachada\n",
      "[Notif] Orden 7: Notificación enviada\n",
      "[Notif] Enviando confirmación para orden 9\n",
      "[Notif] Orden 9: Notificación enviada\n",
      "[Envío] Orden 10 despachada\n",
      "=== Simulación completada ===\n"
     ]
    }
   ],
   "source": [
    "if __name__ == \"__main__\":\n",
    "    print(\"=== Inicio simulación Bulkhead ===\")\n",
    "    simulate_orders()\n",
    "    print(\"=== Simulación completada ===\")\n"
   ]
  },
  {
   "cell_type": "markdown",
   "id": "cccb3759",
   "metadata": {},
   "source": [
    "## Análisis de Resultados\n",
    "\n",
    "Observa en la salida:\n",
    "1. **Nombres de hilos diferentes** para cada grupo (payment_, shipping_, notif_)\n",
    "2. **Fallo en un servicio no colapsa otros**\n",
    "3. **Notificaciones siguen funcionando** aunque envíos fallen\n",
    "4. **Límite de hilos** respetado por cada grupo\n",
    "\n",
    "## Escenarios para Usar Bulkhead\n",
    "\n",
    "1. **Microservicios con distinto SLA**\n",
    "2. **Sistemas con componentes de distinta criticidad**\n",
    "3. **Aplicaciones con recursos compartidos limitados**\n",
    "4. **Prevención de fallos en cascada**"
   ]
  }
 ],
 "metadata": {
  "kernelspec": {
   "display_name": "Python 3",
   "language": "python",
   "name": "python3"
  },
  "language_info": {
   "codemirror_mode": {
    "name": "ipython",
    "version": 3
   },
   "file_extension": ".py",
   "mimetype": "text/x-python",
   "name": "python",
   "nbconvert_exporter": "python",
   "pygments_lexer": "ipython3",
   "version": "3.11.1"
  }
 },
 "nbformat": 4,
 "nbformat_minor": 5
}
